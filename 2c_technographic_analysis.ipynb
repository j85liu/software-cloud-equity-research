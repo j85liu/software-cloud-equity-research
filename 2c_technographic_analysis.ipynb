{
 "cells": [
  {
   "cell_type": "code",
   "execution_count": null,
   "id": "d88d5aa7",
   "metadata": {},
   "outputs": [],
   "source": [
    "# M Science Analysis - Part 2C: Technographic & Digital Footprint Intelligence\n",
    "# Free Alternative Data Sources for Software Adoption & Usage Pattern Analysis\n",
    "# Tracking technology adoption, web traffic, and digital footprint signals\n",
    "\n",
    "import pandas as pd\n",
    "import numpy as np\n",
    "import matplotlib.pyplot as plt\n",
    "import seaborn as sns\n",
    "import requests\n",
    "from bs4 import BeautifulSoup\n",
    "import dns.resolver\n",
    "import socket\n",
    "import ssl\n",
    "import re\n",
    "from datetime import datetime, timedelta\n",
    "import json\n",
    "import time\n",
    "import warnings\n",
    "warnings.filterwarnings('ignore')\n",
    "\n",
    "plt.style.use('seaborn-v0_8')\n",
    "plt.rcParams['figure.figsize'] = (14, 8)\n",
    "\n",
    "print(\"🔍 TECHNOGRAPHIC & DIGITAL FOOTPRINT INTELLIGENCE\")\n",
    "print(\"=\" * 60)\n",
    "print(\"Tracking software adoption, web traffic, and digital signals\")\n",
    "print(\"Free alternative data approach for technology usage analysis\")\n",
    "print()"
   ]
  }
 ],
 "metadata": {
  "language_info": {
   "name": "python"
  }
 },
 "nbformat": 4,
 "nbformat_minor": 5
}
