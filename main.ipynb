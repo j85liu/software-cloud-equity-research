{
 "cells": [
  {
   "cell_type": "code",
   "execution_count": null,
   "id": "ca63ab08",
   "metadata": {
    "vscode": {
     "languageId": "plaintext"
    }
   },
   "outputs": [],
   "source": [
    "# M Science Software/Cloud Coverage Analysis\n",
    "# Surface Level Financial & Market Metrics Analysis\n",
    "# Covering Charles Rogers' research universe\n",
    "\n",
    "import pandas as pd\n",
    "import numpy as np\n",
    "import matplotlib.pyplot as plt\n",
    "import seaborn as sns\n",
    "import yfinance as yf\n",
    "from datetime import datetime, timedelta\n",
    "import warnings\n",
    "warnings.filterwarnings('ignore')\n",
    "\n",
    "plt.style.use('seaborn-v0_8')\n",
    "plt.rcParams['figure.figsize'] = (12, 8)\n",
    "\n",
    "# Charles Rogers' Coverage Universe\n",
    "tickers = {\n",
    "    # Cloud Infrastructure / Hyperscalers\n",
    "    'AMZN': 'Amazon (AWS)',\n",
    "    'MSFT': 'Microsoft (Azure)', \n",
    "    'GOOGL': 'Google (GCP)',\n",
    "    \n",
    "    # Software Infrastructure & DevTools\n",
    "    'ORCL': 'Oracle',\n",
    "    'MDB': 'MongoDB',\n",
    "    'NET': 'Cloudflare',\n",
    "    'FSLY': 'Fastly',\n",
    "    'AKAM': 'Akamai',\n",
    "    'GTLB': 'GitLab',\n",
    "    'TEAM': 'Atlassian',\n",
    "    \n",
    "    # Cloud Native & Storage\n",
    "    'DOCN': 'DigitalOcean',\n",
    "    'DBX': 'Dropbox',\n",
    "    \n",
    "    # Enterprise Software\n",
    "    'DOCU': 'DocuSign',\n",
    "    'ZM': 'Zoom',\n",
    "    'INTU': 'Intuit',\n",
    "    \n",
    "    # European/International\n",
    "    'DT': 'Deutsche Telekom',\n",
    "    'AMS.ES': 'AMS (Spain)',  # This might need adjustment\n",
    "    'TMV.DE': 'TeamViewer',   # German ticker\n",
    "    \n",
    "    # Other\n",
    "    'LZ': 'LegalZoom',\n",
    "    'VMEO': 'Vimeo',\n",
    "    'XRO.AU': 'Xero (Australia)'  # Australian ticker\n",
    "}\n",
    "\n",
    "print(\"🔍 M Science Software/Cloud Coverage Analysis\")\n",
    "print(\"=\" * 50)\n",
    "print(f\"Total companies in coverage: {len(tickers)}\")\n",
    "print(\"Fetching financial data...\")"
   ]
  }
 ],
 "metadata": {
  "language_info": {
   "name": "python"
  }
 },
 "nbformat": 4,
 "nbformat_minor": 5
}
